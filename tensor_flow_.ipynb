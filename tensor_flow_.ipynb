{
  "nbformat": 4,
  "nbformat_minor": 0,
  "metadata": {
    "colab": {
      "name": "tensor_flow_.ipynb",
      "version": "0.3.2",
      "provenance": [],
      "collapsed_sections": []
    },
    "kernelspec": {
      "name": "python3",
      "display_name": "Python 3"
    }
  },
  "cells": [
    {
      "cell_type": "markdown",
      "metadata": {
        "id": "view-in-github",
        "colab_type": "text"
      },
      "source": [
        "[View in Colaboratory](https://colab.research.google.com/github/zach-wildfig/tensorflow_class/blob/master/tensor_flow_.ipynb)"
      ]
    },
    {
      "metadata": {
        "id": "PvrhXdyzqfCw",
        "colab_type": "text"
      },
      "cell_type": "markdown",
      "source": [
        "# TensorFlow Introduction"
      ]
    },
    {
      "metadata": {
        "id": "C7GTctbR7hkB",
        "colab_type": "toc"
      },
      "cell_type": "markdown",
      "source": [
        ">[TensorFlow Introduction](#updateTitle=true&folderId=1OQ2z3xCQRdph-duIRWKJOViCt1gwK6JE&scrollTo=PvrhXdyzqfCw)\n",
        "\n",
        ">[History of TensorFlow](#updateTitle=true&folderId=1OQ2z3xCQRdph-duIRWKJOViCt1gwK6JE&scrollTo=Yg0CcGlWqkQJ)\n",
        "\n",
        ">>[DistBelief](#updateTitle=true&folderId=1OQ2z3xCQRdph-duIRWKJOViCt1gwK6JE&scrollTo=Rq2iEJh871El)\n",
        "\n",
        ">[What are Tensors?](#updateTitle=true&folderId=1OQ2z3xCQRdph-duIRWKJOViCt1gwK6JE&scrollTo=XAiS-RNrqo4D)\n",
        "\n",
        ">[Setting up Google Colab(Jupyter)](#updateTitle=true&folderId=1OQ2z3xCQRdph-duIRWKJOViCt1gwK6JE&scrollTo=jYZgcZE-66vM)\n",
        "\n",
        ">[Introduction to TensorFlow](#updateTitle=true&folderId=1OQ2z3xCQRdph-duIRWKJOViCt1gwK6JE&scrollTo=3F5uDY3k6-RU)\n",
        "\n",
        ">[Building a Neural Net](#updateTitle=true&folderId=1OQ2z3xCQRdph-duIRWKJOViCt1gwK6JE&scrollTo=DHKwLc6J7AsC)\n",
        "\n",
        ">[Results](#updateTitle=true&folderId=1OQ2z3xCQRdph-duIRWKJOViCt1gwK6JE&scrollTo=qwsliMBQ7C2E)\n",
        "\n",
        ">[Additional Resources](#updateTitle=true&folderId=1OQ2z3xCQRdph-duIRWKJOViCt1gwK6JE&scrollTo=LJ-Km1rL7D8n)\n",
        "\n",
        ">[Q & A](#updateTitle=true&folderId=1OQ2z3xCQRdph-duIRWKJOViCt1gwK6JE&scrollTo=HtyQ9gSB7GFU)\n",
        "\n"
      ]
    },
    {
      "metadata": {
        "id": "Yg0CcGlWqkQJ",
        "colab_type": "text"
      },
      "cell_type": "markdown",
      "source": [
        "# History of TensorFlow\n",
        "\n"
      ]
    },
    {
      "metadata": {
        "id": "Rq2iEJh871El",
        "colab_type": "text"
      },
      "cell_type": "markdown",
      "source": [
        "## DistBelief\n",
        "\n",
        "Created in google in 2009, DistBelief was created by the [Google Brain Team](https://ai.google/research/teams/brain) in an effort to leverage the power of emergent neural nets and deep learning to advance Google's mission through advanced artifical intelligence. In 2011 this team brought on additional talent in the form of [Jeff Dean](https://ai.google/research/people/jeff), and the Godfather of Deep Learning, [Geoffrey Hinton](https://ai.google/research/people/GeoffreyHinton). For the sake of brevity, we won't attempt to expand too far on these two gentlemen, and nothing we can cover here would do their contributions to the field any justice. For reference, Dean along with [Sanjay Ghemawat](https://ai.google/research/people/SanjayGhemawat) published [MapReduce](https://ai.google/research/pubs/pub62), and Hinton wrote the [seminal paper](http://www.cs.toronto.edu/~hinton/absps/naturebp.pdf) on learning via backpropagation which took 26 years for computation to catch up to and prove his work."
      ]
    },
    {
      "metadata": {
        "id": "VJxpw_xUANte",
        "colab_type": "text"
      },
      "cell_type": "markdown",
      "source": [
        "![godfather](https://i.giphy.com/l0Iy5XUSWXWczMyKA.gif)"
      ]
    },
    {
      "metadata": {
        "id": "YrMhl77fAZet",
        "colab_type": "text"
      },
      "cell_type": "markdown",
      "source": [
        "## TensorFlow\n",
        "\n",
        "Released on February 11, 2017, version 1 of TensorFlow was faster, more accurate, and much more robust than it's predeccesor DistBelief. In addition, unlike DistBelief, TensorFlow is open source."
      ]
    },
    {
      "metadata": {
        "id": "XAiS-RNrqo4D",
        "colab_type": "text"
      },
      "cell_type": "markdown",
      "source": [
        "# What are Tensors?"
      ]
    },
    {
      "metadata": {
        "id": "jYZgcZE-66vM",
        "colab_type": "text"
      },
      "cell_type": "markdown",
      "source": [
        "# Setting up Google Colab(Jupyter)"
      ]
    },
    {
      "metadata": {
        "id": "3F5uDY3k6-RU",
        "colab_type": "text"
      },
      "cell_type": "markdown",
      "source": [
        "# Introduction to TensorFlow"
      ]
    },
    {
      "metadata": {
        "id": "DHKwLc6J7AsC",
        "colab_type": "text"
      },
      "cell_type": "markdown",
      "source": [
        "# Building a Neural Net"
      ]
    },
    {
      "metadata": {
        "id": "qwsliMBQ7C2E",
        "colab_type": "text"
      },
      "cell_type": "markdown",
      "source": [
        "# Results"
      ]
    },
    {
      "metadata": {
        "id": "LJ-Km1rL7D8n",
        "colab_type": "text"
      },
      "cell_type": "markdown",
      "source": [
        "# Additional Resources"
      ]
    },
    {
      "metadata": {
        "id": "HtyQ9gSB7GFU",
        "colab_type": "text"
      },
      "cell_type": "markdown",
      "source": [
        "# Q & A"
      ]
    }
  ]
}